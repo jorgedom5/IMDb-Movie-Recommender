{
 "cells": [
  {
   "cell_type": "code",
   "execution_count": 61,
   "metadata": {},
   "outputs": [],
   "source": [
    "import pandas as pd\n",
    "import os\n",
    "from sklearn.preprocessing import MultiLabelBinarizer"
   ]
  },
  {
   "cell_type": "code",
   "execution_count": 62,
   "metadata": {},
   "outputs": [],
   "source": [
    "# create a df from all the csv files in raw folder\n",
    "\n",
    "df = pd.DataFrame()\n",
    "\n",
    "for file in os.listdir(\"./raw\"):\n",
    "    if file.endswith(\".csv\"):\n",
    "        df = pd.concat([df, pd.read_csv(\"./raw/\" + file)])"
   ]
  },
  {
   "cell_type": "code",
   "execution_count": 63,
   "metadata": {},
   "outputs": [],
   "source": [
    "col_to_drop = [\"movie_id\", \"certificate\", \"director_id\", \"star\", \"star_id\", \"gross(in $)\", \"description\"]\n",
    "\n",
    "for _ in col_to_drop:\n",
    "    df = df.drop(_, axis=1)"
   ]
  },
  {
   "cell_type": "code",
   "execution_count": 64,
   "metadata": {},
   "outputs": [],
   "source": [
    "col_to_rename = {\"movie_name\": \"Original Title\", \n",
    "                    \"year\": \"Year\", \n",
    "                    \"runtime\": \"Runtime (mins)\", \n",
    "                    \"rating\": \"IMDb Rating\", \n",
    "                    \"votes\": \"Num Votes\"}\n",
    "\n",
    "for _ in col_to_rename:\n",
    "    df = df.rename(columns={_: col_to_rename[_]})"
   ]
  },
  {
   "cell_type": "code",
   "execution_count": 65,
   "metadata": {},
   "outputs": [],
   "source": [
    "# drop rows with missing values\n",
    "\n",
    "df = df.dropna()\n",
    "\n",
    "# reset index\n",
    "\n",
    "df = df.reset_index(drop=True)"
   ]
  },
  {
   "cell_type": "code",
   "execution_count": 66,
   "metadata": {},
   "outputs": [],
   "source": [
    "df[\"genre\"] = df[\"genre\"].str.split(\", \")\n",
    "df[\"genre\"] = df[\"genre\"].apply(lambda x: x if isinstance(x, list) else [])\n",
    "\n",
    "mlb = MultiLabelBinarizer()\n",
    "genres_one_hot = mlb.fit_transform(df[\"genre\"])\n",
    "\n",
    "genres_df = pd.DataFrame(genres_one_hot, columns=mlb.classes_)\n",
    "\n",
    "df = pd.concat([df, genres_df], axis=1)\n",
    "\n",
    "df = df.drop([\"genre\"], axis=1)"
   ]
  },
  {
   "cell_type": "code",
   "execution_count": 67,
   "metadata": {},
   "outputs": [],
   "source": [
    "global_mean = df[\"IMDb Rating\"].mean()\n",
    "\n",
    "director_counts = df[\"director\"].value_counts()\n",
    "\n",
    "director_means = df.groupby(\"director\")[\"IMDb Rating\"].mean()\n",
    "\n",
    "alpha = 10\n",
    "\n",
    "smoothed_means = (director_means * director_counts + global_mean * alpha) / (\n",
    "    director_counts + alpha\n",
    ")\n",
    "\n",
    "df[\"directors_encoded\"] = df[\"director\"].map(smoothed_means)\n",
    "\n",
    "df = df.drop([\"director\"], axis=1)"
   ]
  },
  {
   "cell_type": "code",
   "execution_count": 68,
   "metadata": {},
   "outputs": [],
   "source": [
    "df[\"Runtime (mins)\"] = df[\"Runtime (mins)\"].str.replace(\"min\", \"\")"
   ]
  },
  {
   "cell_type": "code",
   "execution_count": 69,
   "metadata": {},
   "outputs": [],
   "source": [
    "col_to_num = [\"Year\", \"Runtime (mins)\"]\n",
    "\n",
    "for _ in col_to_num:\n",
    "    df[_] = pd.to_numeric(df[_], errors=\"coerce\")"
   ]
  },
  {
   "cell_type": "code",
   "execution_count": 71,
   "metadata": {},
   "outputs": [],
   "source": [
    "df.to_csv(\"../processed/imdb_movies.csv\", index=False)"
   ]
  }
 ],
 "metadata": {
  "kernelspec": {
   "display_name": "Python 3",
   "language": "python",
   "name": "python3"
  },
  "language_info": {
   "codemirror_mode": {
    "name": "ipython",
    "version": 3
   },
   "file_extension": ".py",
   "mimetype": "text/x-python",
   "name": "python",
   "nbconvert_exporter": "python",
   "pygments_lexer": "ipython3",
   "version": "3.11.9"
  }
 },
 "nbformat": 4,
 "nbformat_minor": 2
}
